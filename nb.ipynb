{
 "cells": [
  {
   "cell_type": "code",
   "execution_count": 6,
   "id": "99e3c43c",
   "metadata": {},
   "outputs": [
    {
     "name": "stdout",
     "output_type": "stream",
     "text": [
      "The autoreload extension is already loaded. To reload it, use:\n",
      "  %reload_ext autoreload\n"
     ]
    }
   ],
   "source": [
    "%load_ext autoreload\n",
    "%autoreload 2"
   ]
  },
  {
   "cell_type": "code",
   "execution_count": 7,
   "id": "03231014",
   "metadata": {},
   "outputs": [],
   "source": [
    "from sklearn import datasets\n",
    "from sklearn.preprocessing import normalize\n",
    "import pylab\n",
    "\n",
    "from tsne import *"
   ]
  },
  {
   "cell_type": "code",
   "execution_count": 8,
   "id": "9f654340",
   "metadata": {},
   "outputs": [],
   "source": [
    "X, y = datasets.load_digits(return_X_y=True)"
   ]
  },
  {
   "cell_type": "code",
   "execution_count": 9,
   "id": "284c0d76",
   "metadata": {},
   "outputs": [],
   "source": [
    "#res = tsne(X, T=400, l=200)"
   ]
  },
  {
   "cell_type": "code",
   "execution_count": 10,
   "id": "92870ad1",
   "metadata": {},
   "outputs": [],
   "source": [
    "# pylab.scatter(res[:, 0], res[:, 1], s=20, c=y)\n",
    "# pylab.show()"
   ]
  },
  {
   "cell_type": "markdown",
   "metadata": {},
   "source": [
    "## Experiment some combinations of hyperparameters"
   ]
  },
  {
   "cell_type": "code",
   "execution_count": null,
   "metadata": {},
   "outputs": [],
   "source": [
    "import numpy as np\n",
    "\n",
    "l = np.array([100,250,400,800,1200])\n",
    "perp = np.array([5,10,20,30,40,50,60])\n",
    "\n",
    "hyperparam_combination = np.array(np.meshgrid(l,perp)).T.reshape(-1,2)\n",
    "\n",
    "for i in hyperparam_combination:\n",
    "    l = i[0]\n",
    "    perp = i[1]\n",
    "\n",
    "    res = tsne(X, l=l, perp=perp, verbose=False)\n",
    "    pylab.scatter(res[:, 0], res[:, 1], s=20, c=y, cmap=pylab.cm.tab10, vmin=-0.5, vmax=9.5, alpha=0.7)\n",
    "    pylab.title(\"t-SNE with l = \"+str(l)+\", perp = \"+str(perp))\n",
    "    pylab.colorbar(ticks=range(10))\n",
    "\n",
    "    pylab.show()"
   ]
  }
 ],
 "metadata": {
  "interpreter": {
   "hash": "ff6ad5a762580c17504674c9d479a31392755ddb54285ad0288b591aa43a1d14"
  },
  "kernelspec": {
   "display_name": "Python 3.9.1 64-bit ('venv': venv)",
   "name": "python3"
  },
  "language_info": {
   "codemirror_mode": {
    "name": "ipython",
    "version": 3
   },
   "file_extension": ".py",
   "mimetype": "text/x-python",
   "name": "python",
   "nbconvert_exporter": "python",
   "pygments_lexer": "ipython3",
   "version": "3.9.1"
  }
 },
 "nbformat": 4,
 "nbformat_minor": 5
}
