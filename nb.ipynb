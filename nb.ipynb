{
 "cells": [
  {
   "cell_type": "code",
   "execution_count": 1,
   "id": "99e3c43c",
   "metadata": {},
   "outputs": [],
   "source": [
    "%load_ext autoreload\n",
    "%autoreload 2"
   ]
  },
  {
   "cell_type": "code",
   "execution_count": 1,
   "id": "03231014",
   "metadata": {},
   "outputs": [],
   "source": [
    "from sklearn import datasets\n",
    "from sklearn.preprocessing import normalize\n",
    "import pylab\n",
    "\n",
    "from tsne import *"
   ]
  },
  {
   "cell_type": "code",
   "execution_count": 2,
   "id": "9f654340",
   "metadata": {},
   "outputs": [],
   "source": [
    "X, y = datasets.load_digits(return_X_y=True)"
   ]
  },
  {
   "cell_type": "code",
   "execution_count": null,
   "id": "284c0d76",
   "metadata": {},
   "outputs": [
    {
     "name": "stdout",
     "output_type": "stream",
     "text": [
      "Sigmas: [ 5.98213702  9.13406836 10.98042699 ...  9.88479788  9.72000943\n",
      " 10.18701319]\n",
      "Iteration 1: error 3.2595\n",
      "Iteration 11: error 3.2595\n",
      "Iteration 21: error 3.2431\n",
      "Iteration 31: error 2.3162\n",
      "Iteration 41: error 1.8399\n",
      "Iteration 51: error 1.6197\n",
      "Iteration 61: error 1.486\n",
      "Iteration 71: error 1.3933\n",
      "Iteration 81: error 1.3244\n",
      "Iteration 91: error 1.2701\n",
      "Iteration 101: error 1.2251\n",
      "Iteration 111: error 1.1875\n",
      "Iteration 121: error 1.1557\n",
      "Iteration 131: error 1.1282\n",
      "Iteration 141: error 1.1041\n",
      "Iteration 151: error 1.0828\n",
      "Iteration 161: error 1.0637\n",
      "Iteration 171: error 1.0465\n",
      "Iteration 181: error 1.0309\n",
      "Iteration 191: error 1.0166\n",
      "Iteration 201: error 1.0035\n",
      "Iteration 211: error 0.9914\n",
      "Iteration 221: error 0.9801\n",
      "Iteration 231: error 0.9697\n",
      "Iteration 241: error 0.96\n",
      "Iteration 251: error 0.9508\n",
      "Iteration 261: error 0.9343\n",
      "Iteration 271: error 0.9161\n",
      "Iteration 281: error 0.8997\n",
      "Iteration 291: error 0.8852\n",
      "Iteration 301: error 0.8723\n",
      "Iteration 311: error 0.8608\n"
     ]
    }
   ],
   "source": [
    "res = tsne(X, T=400, l=200)"
   ]
  },
  {
   "cell_type": "code",
   "execution_count": null,
   "id": "92870ad1",
   "metadata": {},
   "outputs": [],
   "source": [
    "pylab.scatter(res[:, 0], res[:, 1], s=20, c=y)\n",
    "pylab.show()"
   ]
  }
 ],
 {
   "cell_type": "code",
   "execution_count": 2,
   "id": "9f654340",
   "metadata": {},
   "outputs": [],
   "source": [
    "import numpy as np\n",
    "\n",
    "l = np.array([100,250,400,800,1200])\n",
    "perp = np.array([5,10,20,30,40,50,60])\n",
    "\n",
    "hyperparam_combination = np.array(np.meshgrid(l,perp)).T.reshape(-1,2)\n",
    "\n",
    "for i in hyperparam_combination:\n",
    "    l = i[0]\n",
    "    perp = i[1]\n",
    "\n",
    "    res = tsne(X, l=l, perp=perp, verbose=False)\n",
    "    pylab.scatter(res[:, 0], res[:, 1], s=20, c=y, cmap=pylab.cm.tab10, vmin=-0.5, vmax=9.5, alpha=0.7)\n",
    "    pylab.title(\"t-SNE with l = \"+str(l)+\", perp = \"+str(perp))\n",
    "    pylab.colorbar(ticks=range(10))\n",
    "\n",
    "    pylab.show()"
   ]
  },
 "metadata": {
  "kernelspec": {
   "display_name": "Python 3 (ipykernel)",
   "language": "python",
   "name": "python3"
  },
  "language_info": {
   "codemirror_mode": {
    "name": "ipython",
    "version": 3
   },
   "file_extension": ".py",
   "mimetype": "text/x-python",
   "name": "python",
   "nbconvert_exporter": "python",
   "pygments_lexer": "ipython3",
   "version": "3.9.6"
  }
 },
 "nbformat": 4,
 "nbformat_minor": 5
}
