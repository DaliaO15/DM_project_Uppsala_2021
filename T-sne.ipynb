{
 "cells": [
  {
   "cell_type": "code",
   "execution_count": 3,
   "metadata": {},
   "outputs": [],
   "source": [
    "import numpy as np\n",
    "#from load_data import load_mnist\n",
    "from sklearn.datasets import load_digits\n",
    "from sklearn.manifold import TSNE\n",
    "from matplotlib import pyplot as plt\n",
    "from sklearn.metrics import pairwise_distances\n",
    "import seaborn as sns\n",
    "\n",
    "#palette=sns.color_palette(\"cubehelix\", 10)\n",
    "palette=sns.color_palette(\"magma\", 10)\n",
    "#palette=sns.color_palette(\"viridis\", 10)"
   ]
  },
  {
   "cell_type": "code",
   "execution_count": null,
   "metadata": {},
   "outputs": [],
   "source": [
    "#Load the data\n",
    "X, y = load_digits(return_X_y=True)"
   ]
  },
  {
   "cell_type": "markdown",
   "metadata": {},
   "source": [
    "## sklearn implementation"
   ]
  },
  {
   "cell_type": "code",
   "execution_count": null,
   "metadata": {},
   "outputs": [],
   "source": [
    "#Implement tsne from sklearn\n",
    "tsne = TSNE()\n",
    "X_embedded = tsne.fit_transform(X)"
   ]
  },
  {
   "cell_type": "code",
   "execution_count": null,
   "metadata": {},
   "outputs": [],
   "source": [
    "X_embedded"
   ]
  },
  {
   "cell_type": "code",
   "execution_count": null,
   "metadata": {},
   "outputs": [],
   "source": [
    "#Plots\n",
    "\n",
    "def plot_tsne(xy, hue='hue', legend = \"full\", palette = palette):\n",
    "    sns.set(rc={'figure.figsize':(10,10)})\n",
    "    #palette=sns.color_palette(\"cubehelix\", 10)\n",
    "    palette=sns.color_palette(\"magma\", 10)\n",
    "    #palette=sns.color_palette(\"viridis\", 10)\n",
    "    fig = sns.scatterplot(xy[:,0], xy[:,1],\n",
    "                hue = hue,\n",
    "                legend = \"full\",\n",
    "                palette = palette) # don't use edges\n",
    "    plt.show()\n",
    "    \n",
    "plot_tsne(X_embedded, hue = y)"
   ]
  },
  {
   "cell_type": "markdown",
   "metadata": {},
   "source": [
    "## My implementation"
   ]
  },
  {
   "cell_type": "markdown",
   "metadata": {},
   "source": [
    "Step 1: Euclidian distances"
   ]
  },
  {
   "cell_type": "code",
   "execution_count": 4,
   "metadata": {},
   "outputs": [],
   "source": [
    "def pair_distances(X):\n",
    "    D_squared = np.sum((X[None,:] - X[:, None])**2, -1)#**0.5 #OJO AQUI CON LA RAIZ\n",
    "    return -D_squared"
   ]
  },
  {
   "cell_type": "code",
   "execution_count": 2,
   "metadata": {},
   "outputs": [
    {
     "ename": "NameError",
     "evalue": "name 'np' is not defined",
     "output_type": "error",
     "traceback": [
      "\u001b[1;31m---------------------------------------------------------------------------\u001b[0m",
      "\u001b[1;31mNameError\u001b[0m                                 Traceback (most recent call last)",
      "\u001b[1;32m<ipython-input-2-636c39154f8e>\u001b[0m in \u001b[0;36m<module>\u001b[1;34m\u001b[0m\n\u001b[1;32m----> 1\u001b[1;33m \u001b[0mX\u001b[0m \u001b[1;33m=\u001b[0m \u001b[0mnp\u001b[0m\u001b[1;33m.\u001b[0m\u001b[0marray\u001b[0m\u001b[1;33m(\u001b[0m\u001b[1;33m[\u001b[0m\u001b[1;33m(\u001b[0m\u001b[1;36m0\u001b[0m\u001b[1;33m,\u001b[0m\u001b[1;36m0\u001b[0m\u001b[1;33m)\u001b[0m\u001b[1;33m,\u001b[0m \u001b[1;33m(\u001b[0m\u001b[1;36m4\u001b[0m\u001b[1;33m,\u001b[0m\u001b[1;36m0\u001b[0m\u001b[1;33m)\u001b[0m\u001b[1;33m,\u001b[0m \u001b[1;33m(\u001b[0m\u001b[1;36m4\u001b[0m\u001b[1;33m,\u001b[0m\u001b[1;36m3\u001b[0m\u001b[1;33m)\u001b[0m\u001b[1;33m,\u001b[0m \u001b[1;33m(\u001b[0m\u001b[1;36m0\u001b[0m\u001b[1;33m,\u001b[0m\u001b[1;36m3\u001b[0m\u001b[1;33m)\u001b[0m\u001b[1;33m]\u001b[0m\u001b[1;33m)\u001b[0m\u001b[1;33m\u001b[0m\u001b[1;33m\u001b[0m\u001b[0m\n\u001b[0m\u001b[0;32m      2\u001b[0m \u001b[0mprint\u001b[0m\u001b[1;33m(\u001b[0m\u001b[0mX\u001b[0m\u001b[1;33m)\u001b[0m\u001b[1;33m\u001b[0m\u001b[1;33m\u001b[0m\u001b[0m\n\u001b[0;32m      3\u001b[0m \u001b[1;31m#-1*pairwise_distances(X, metric='euclidean', squared=True)==pair_distances(X)\u001b[0m\u001b[1;33m\u001b[0m\u001b[1;33m\u001b[0m\u001b[1;33m\u001b[0m\u001b[0m\n\u001b[0;32m      4\u001b[0m \u001b[0mpair_distances\u001b[0m\u001b[1;33m(\u001b[0m\u001b[0mX\u001b[0m\u001b[1;33m)\u001b[0m\u001b[1;33m\u001b[0m\u001b[1;33m\u001b[0m\u001b[0m\n",
      "\u001b[1;31mNameError\u001b[0m: name 'np' is not defined"
     ]
    }
   ],
   "source": [
    "X = np.array([(0,0), (4,0), (4,3), (0,3)])\n",
    "print(X)\n",
    "#-1*pairwise_distances(X, metric='euclidean', squared=True)==pair_distances(X)\n",
    "pair_distances(X)"
   ]
  },
  {
   "cell_type": "code",
   "execution_count": null,
   "metadata": {},
   "outputs": [],
   "source": [
    "e_x=np.exp(X - np.max(X, axis=1).reshape([-1, 1]))\n",
    "print(e_x)"
   ]
  },
  {
   "cell_type": "code",
   "execution_count": null,
   "metadata": {},
   "outputs": [],
   "source": [
    "np.fill_diagonal(e_x, 0.)\n",
    "print(e_x)"
   ]
  },
  {
   "cell_type": "markdown",
   "metadata": {},
   "source": [
    "Step 2: Compute the quotient and the probability matrix"
   ]
  },
  {
   "cell_type": "code",
   "execution_count": 5,
   "metadata": {},
   "outputs": [],
   "source": [
    "def quotient(distances):\n",
    "    # Subtract max for numerical stability\n",
    "    e_x = np.exp(distances - np.max(distances, axis=1).reshape([-1, 1]))\n",
    "\n",
    "    # Diagonal 0.\n",
    "    np.fill_diagonal(e_x, 0.)\n",
    "\n",
    "    # Add a tiny constant for stability of log we take later\n",
    "    e_x = e_x + 1e-8  # numerical stability\n",
    "\n",
    "    return e_x / e_x.sum(axis=1).reshape([-1, 1])"
   ]
  },
  {
   "cell_type": "code",
   "execution_count": 6,
   "metadata": {},
   "outputs": [],
   "source": [
    "def compute_proba_matrix(distances,sigmas=None):\n",
    "    if sigmas==None: \n",
    "        return quotient(distances)\n",
    "    else:\n",
    "        return quotient(distances / 2**np.square(sigmas.reshape((-1, 1))))\n",
    "        "
   ]
  },
  {
   "cell_type": "markdown",
   "metadata": {},
   "source": [
    "Step 3: Compute the perplexity if needed"
   ]
  },
  {
   "cell_type": "code",
   "execution_count": 7,
   "metadata": {},
   "outputs": [],
   "source": [
    "#First a binary search \n",
    "def binary_search(array,target,tol=1e-10,max_iter=1000,lower=1e-20,upper=1000.):\n",
    "    for i in range(max_iter):\n",
    "        guess = ((lower + upper) / 2.) + lower\n",
    "        val = array(guess)\n",
    "        if val > target:\n",
    "            upper = guess\n",
    "        else:\n",
    "            lower = guess\n",
    "        if np.abs(val - target) <= tol:\n",
    "            break\n",
    "    return guess"
   ]
  },
  {
   "cell_type": "code",
   "execution_count": 8,
   "metadata": {},
   "outputs": [],
   "source": [
    "def calc_perplex(distances,sigmas):\n",
    "    proba_matrix=compute_proba_matrix(distances,sigmas)\n",
    "    logar=np.log2(proba_matrix)\n",
    "    entropy = -np.sum(proba_matrix*logar,1)\n",
    "    perplexity = 2**entropy\n",
    "    return perplexity"
   ]
  },
  {
   "cell_type": "code",
   "execution_count": 9,
   "metadata": {},
   "outputs": [],
   "source": [
    "#SNE performs a binary searh for the value of sigma_i that ptoduces a P_i with a\n",
    "#fixed perplexity that is specified by the user\n",
    "def find_sigmas(distances,our_perplexity):\n",
    "    sigmas=np.zeros(distances.shape[0])\n",
    "    # For each row of the matrix (each point in our dataset)\n",
    "    for i in range(distances.shape[0]):\n",
    "        # Make fn that returns perplexity of this row given sigma\n",
    "        eval_fn = lambda sigma: \\\n",
    "            calc_perplex(distances[i:i+1, :], np.array(sigma))\n",
    "        # Binary search over sigmas to achieve target perplexity\n",
    "        correct_sigma = binary_search(eval_fn, our_perplexity,tol=1e-10,max_iter=1000,lower=1e-20,upper=1000.)\n",
    "        # Save the correct sigma \n",
    "        sigmas[i]=correct_sigma\n",
    "    return np.array(sigmas)"
   ]
  },
  {
   "cell_type": "code",
   "execution_count": 10,
   "metadata": {},
   "outputs": [],
   "source": [
    "def solve_crowd(P):\n",
    "    N = P.shape[0]\n",
    "    return (P+P.T)/2*N"
   ]
  },
  {
   "cell_type": "code",
   "execution_count": 11,
   "metadata": {},
   "outputs": [],
   "source": [
    "#Compute the low dimesional map qij using ec 4\n",
    "def Q_table(Y):\n",
    "    distances_low_dim=pair_distances(Y)\n",
    "    nom = np.linalg.inv(np.exp(1.-distances))\n",
    "    # Fill diagonal with zeroes so q_ii = 0\n",
    "    np.fill_diagonal(exp_distances, 0.) # WARNING: NUMERICAL STABILITY\n",
    "    deno = np.linalg.inv(np.sum(1.-exp_distances))\n",
    "    return nom/den\n",
    "    "
   ]
  },
  {
   "cell_type": "code",
   "execution_count": 12,
   "metadata": {},
   "outputs": [],
   "source": [
    "def P_table(X,our_perplexity):\n",
    "    distances_high_dim = pair_distances(X)\n",
    "    sigmas=find_sigmas(distances_high_dim,our_perplexity)\n",
    "    compute_proba_matrix(distances_high_dim,sigmas)\n",
    "    return solve_crowd(P)"
   ]
  },
  {
   "cell_type": "code",
   "execution_count": 13,
   "metadata": {},
   "outputs": [],
   "source": [
    "def compute_gradient(P,Q,Y):\n",
    "    \n",
    "    pq_diff = P - Q\n",
    "    pq_expanded = np.expand_dims(pq_diff, 2)\n",
    "    y_diffs = np.expand_dims(Y, 1) - np.expand_dims(Y, 0)\n",
    "    \n",
    "    distances_low_dim=pair_distances(Y)\n",
    "    aux = np.linalg.inv(np.exp(1.-distances))\n",
    "    distances_low_expanded = np.expand_dims(aux, 2)\n",
    "    \n",
    "    y_diffs_wt = y_diffs * distances_low_expanded\n",
    "\n",
    "    # Multiply then sum over j's\n",
    "    grad = 4. * (pq_expanded * y_diffs_wt).sum(1)\n",
    "    \n",
    "    return grad\n"
   ]
  },
  {
   "cell_type": "code",
   "execution_count": 14,
   "metadata": {},
   "outputs": [],
   "source": [
    "def t_sne(X,classes,our_perplexity, num_iter, nu, alpha):\n",
    "    \n",
    "    N = X.shape[0]\n",
    "    P = P_table(X,our_perplexity)\n",
    "    random.seed(10)\n",
    "    Y = np.random.normal(loc=0.0, scale=1e-4, size=(N,2))\n",
    "    Y_m2 = Y.copy()\n",
    "    Y_m1 = Y.copy()\n",
    "    for i in range(T):\n",
    "        Q= Q_table(Y) #compute low dimensional affinities\n",
    "        grad = compute_gradient(P,Q,Y) # compute gradient\n",
    "        Y = Y + nu*grad + alpha*(Y_m1-Y_m2)#set y_i's\n",
    "        Y_m2 = Y_m1.copy()\n",
    "        Y_m1 = Y.copy()\n",
    "    \n",
    "    return Y #low dimensional representation"
   ]
  },
  {
   "cell_type": "code",
   "execution_count": 15,
   "metadata": {},
   "outputs": [
    {
     "name": "stderr",
     "output_type": "stream",
     "text": [
      "<ipython-input-6-1325132c1845>:5: RuntimeWarning: overflow encountered in power\n",
      "  return quotient(distances / 2**np.square(sigmas.reshape((-1, 1))))\n"
     ]
    },
    {
     "ename": "ValueError",
     "evalue": "The truth value of an array with more than one element is ambiguous. Use a.any() or a.all()",
     "output_type": "error",
     "traceback": [
      "\u001b[1;31m---------------------------------------------------------------------------\u001b[0m",
      "\u001b[1;31mValueError\u001b[0m                                Traceback (most recent call last)",
      "\u001b[1;32m<ipython-input-15-3a40f9116d5f>\u001b[0m in \u001b[0;36m<module>\u001b[1;34m\u001b[0m\n\u001b[0;32m     22\u001b[0m \u001b[1;33m\u001b[0m\u001b[0m\n\u001b[0;32m     23\u001b[0m \u001b[1;31m# Fit SNE or t-SNE\u001b[0m\u001b[1;33m\u001b[0m\u001b[1;33m\u001b[0m\u001b[1;33m\u001b[0m\u001b[0m\n\u001b[1;32m---> 24\u001b[1;33m X_embeded = t_sne(X=X,classes=y,our_perplexity=PERPLEXITY, num_iter=NUM_ITERS, \n\u001b[0m\u001b[0;32m     25\u001b[0m     nu=LEARNING_RATE, alpha=MOMENTUM)\n\u001b[0;32m     26\u001b[0m \u001b[1;33m\u001b[0m\u001b[0m\n",
      "\u001b[1;32m<ipython-input-14-8860fc6e6486>\u001b[0m in \u001b[0;36mt_sne\u001b[1;34m(X, classes, our_perplexity, num_iter, nu, alpha)\u001b[0m\n\u001b[0;32m      2\u001b[0m \u001b[1;33m\u001b[0m\u001b[0m\n\u001b[0;32m      3\u001b[0m     \u001b[0mN\u001b[0m \u001b[1;33m=\u001b[0m \u001b[0mX\u001b[0m\u001b[1;33m.\u001b[0m\u001b[0mshape\u001b[0m\u001b[1;33m[\u001b[0m\u001b[1;36m0\u001b[0m\u001b[1;33m]\u001b[0m\u001b[1;33m\u001b[0m\u001b[1;33m\u001b[0m\u001b[0m\n\u001b[1;32m----> 4\u001b[1;33m     \u001b[0mP\u001b[0m \u001b[1;33m=\u001b[0m \u001b[0mP_table\u001b[0m\u001b[1;33m(\u001b[0m\u001b[0mX\u001b[0m\u001b[1;33m,\u001b[0m\u001b[0mour_perplexity\u001b[0m\u001b[1;33m)\u001b[0m\u001b[1;33m\u001b[0m\u001b[1;33m\u001b[0m\u001b[0m\n\u001b[0m\u001b[0;32m      5\u001b[0m     \u001b[0mrandom\u001b[0m\u001b[1;33m.\u001b[0m\u001b[0mseed\u001b[0m\u001b[1;33m(\u001b[0m\u001b[1;36m10\u001b[0m\u001b[1;33m)\u001b[0m\u001b[1;33m\u001b[0m\u001b[1;33m\u001b[0m\u001b[0m\n\u001b[0;32m      6\u001b[0m     \u001b[0mY\u001b[0m \u001b[1;33m=\u001b[0m \u001b[0mnp\u001b[0m\u001b[1;33m.\u001b[0m\u001b[0mrandom\u001b[0m\u001b[1;33m.\u001b[0m\u001b[0mnormal\u001b[0m\u001b[1;33m(\u001b[0m\u001b[0mloc\u001b[0m\u001b[1;33m=\u001b[0m\u001b[1;36m0.0\u001b[0m\u001b[1;33m,\u001b[0m \u001b[0mscale\u001b[0m\u001b[1;33m=\u001b[0m\u001b[1;36m1e-4\u001b[0m\u001b[1;33m,\u001b[0m \u001b[0msize\u001b[0m\u001b[1;33m=\u001b[0m\u001b[1;33m(\u001b[0m\u001b[0mN\u001b[0m\u001b[1;33m,\u001b[0m\u001b[1;36m2\u001b[0m\u001b[1;33m)\u001b[0m\u001b[1;33m)\u001b[0m\u001b[1;33m\u001b[0m\u001b[1;33m\u001b[0m\u001b[0m\n",
      "\u001b[1;32m<ipython-input-12-d52b09a12b2c>\u001b[0m in \u001b[0;36mP_table\u001b[1;34m(X, our_perplexity)\u001b[0m\n\u001b[0;32m      2\u001b[0m     \u001b[0mdistances_high_dim\u001b[0m \u001b[1;33m=\u001b[0m \u001b[0mpair_distances\u001b[0m\u001b[1;33m(\u001b[0m\u001b[0mX\u001b[0m\u001b[1;33m)\u001b[0m\u001b[1;33m\u001b[0m\u001b[1;33m\u001b[0m\u001b[0m\n\u001b[0;32m      3\u001b[0m     \u001b[0msigmas\u001b[0m\u001b[1;33m=\u001b[0m\u001b[0mfind_sigmas\u001b[0m\u001b[1;33m(\u001b[0m\u001b[0mdistances_high_dim\u001b[0m\u001b[1;33m,\u001b[0m\u001b[0mour_perplexity\u001b[0m\u001b[1;33m)\u001b[0m\u001b[1;33m\u001b[0m\u001b[1;33m\u001b[0m\u001b[0m\n\u001b[1;32m----> 4\u001b[1;33m     \u001b[0mcompute_proba_matrix\u001b[0m\u001b[1;33m(\u001b[0m\u001b[0mdistances_high_dim\u001b[0m\u001b[1;33m,\u001b[0m\u001b[0msigmas\u001b[0m\u001b[1;33m)\u001b[0m\u001b[1;33m\u001b[0m\u001b[1;33m\u001b[0m\u001b[0m\n\u001b[0m\u001b[0;32m      5\u001b[0m     \u001b[1;32mreturn\u001b[0m \u001b[0msolve_crowd\u001b[0m\u001b[1;33m(\u001b[0m\u001b[0mP\u001b[0m\u001b[1;33m)\u001b[0m\u001b[1;33m\u001b[0m\u001b[1;33m\u001b[0m\u001b[0m\n",
      "\u001b[1;32m<ipython-input-6-1325132c1845>\u001b[0m in \u001b[0;36mcompute_proba_matrix\u001b[1;34m(distances, sigmas)\u001b[0m\n\u001b[0;32m      1\u001b[0m \u001b[1;32mdef\u001b[0m \u001b[0mcompute_proba_matrix\u001b[0m\u001b[1;33m(\u001b[0m\u001b[0mdistances\u001b[0m\u001b[1;33m,\u001b[0m\u001b[0msigmas\u001b[0m\u001b[1;33m=\u001b[0m\u001b[1;32mNone\u001b[0m\u001b[1;33m)\u001b[0m\u001b[1;33m:\u001b[0m\u001b[1;33m\u001b[0m\u001b[1;33m\u001b[0m\u001b[0m\n\u001b[1;32m----> 2\u001b[1;33m     \u001b[1;32mif\u001b[0m \u001b[0msigmas\u001b[0m\u001b[1;33m==\u001b[0m\u001b[1;32mNone\u001b[0m\u001b[1;33m:\u001b[0m\u001b[1;33m\u001b[0m\u001b[1;33m\u001b[0m\u001b[0m\n\u001b[0m\u001b[0;32m      3\u001b[0m         \u001b[1;32mreturn\u001b[0m \u001b[0mquotient\u001b[0m\u001b[1;33m(\u001b[0m\u001b[0mdistances\u001b[0m\u001b[1;33m)\u001b[0m\u001b[1;33m\u001b[0m\u001b[1;33m\u001b[0m\u001b[0m\n\u001b[0;32m      4\u001b[0m     \u001b[1;32melse\u001b[0m\u001b[1;33m:\u001b[0m\u001b[1;33m\u001b[0m\u001b[1;33m\u001b[0m\u001b[0m\n\u001b[0;32m      5\u001b[0m         \u001b[1;32mreturn\u001b[0m \u001b[0mquotient\u001b[0m\u001b[1;33m(\u001b[0m\u001b[0mdistances\u001b[0m \u001b[1;33m/\u001b[0m \u001b[1;36m2\u001b[0m\u001b[1;33m**\u001b[0m\u001b[0mnp\u001b[0m\u001b[1;33m.\u001b[0m\u001b[0msquare\u001b[0m\u001b[1;33m(\u001b[0m\u001b[0msigmas\u001b[0m\u001b[1;33m.\u001b[0m\u001b[0mreshape\u001b[0m\u001b[1;33m(\u001b[0m\u001b[1;33m(\u001b[0m\u001b[1;33m-\u001b[0m\u001b[1;36m1\u001b[0m\u001b[1;33m,\u001b[0m \u001b[1;36m1\u001b[0m\u001b[1;33m)\u001b[0m\u001b[1;33m)\u001b[0m\u001b[1;33m)\u001b[0m\u001b[1;33m)\u001b[0m\u001b[1;33m\u001b[0m\u001b[1;33m\u001b[0m\u001b[0m\n",
      "\u001b[1;31mValueError\u001b[0m: The truth value of an array with more than one element is ambiguous. Use a.any() or a.all()"
     ]
    }
   ],
   "source": [
    "      # Set global parameters\n",
    "NUM_POINTS = 100            # Number of samples from MNIST\n",
    "CLASSES_TO_USE = [0, 1, 8]  # MNIST classes to use\n",
    "PERPLEXITY = 20                   # Random seed\n",
    "MOMENTUM = 0.9              #alpha  \n",
    "LEARNING_RATE = 10.         # nu\n",
    "NUM_ITERS = 10             # Num iterations to train for  \n",
    "\n",
    "\n",
    "# numpy RandomState for reproducibility\n",
    "rng = np.random.RandomState(1)\n",
    "\n",
    "# Load the first NUM_POINTS 0's, 1's and 8's from MNIST\n",
    "#X, y = load_mnmist('datasets/',\n",
    "#                  digits_to_keep=CLASSES_TO_USE,#                  N=NUM_POINTS)\n",
    "\n",
    "X, y = load_digits(return_X_y=True)\n",
    "X = X[0:200]\n",
    "\n",
    "# Obtain matrix of joint probabilities p_ij\n",
    "#P = p_joint(X, PERPLEXITY)\n",
    "\n",
    "# Fit SNE or t-SNE\n",
    "X_embeded = t_sne(X=X,classes=y,our_perplexity=PERPLEXITY, num_iter=NUM_ITERS, \n",
    "          nu=LEARNING_RATE, alpha=MOMENTUM)\n",
    "\n",
    "#Y = estimate_sne(X, y, P, rng,\n",
    "#         num_iters=NUM_ITERS,\n",
    "#         q_fn=q_tsne if TSNE else q_joint,\n",
    "#         grad_fn=tsne_grad if TSNE else symmetric_sne_grad,\n",
    "#         learning_rate=LEARNING_RATE,\n",
    "#         momentum=MOMENTUM,\n",
    "#         plot=NUM_PLOTS)                                                                  "
   ]
  },
  {
   "cell_type": "code",
   "execution_count": null,
   "metadata": {},
   "outputs": [],
   "source": [
    "X"
   ]
  },
  {
   "cell_type": "code",
   "execution_count": null,
   "metadata": {},
   "outputs": [],
   "source": []
  }
 ],
 "metadata": {
  "kernelspec": {
   "display_name": "Python 3",
   "language": "python",
   "name": "python3"
  },
  "language_info": {
   "codemirror_mode": {
    "name": "ipython",
    "version": 3
   },
   "file_extension": ".py",
   "mimetype": "text/x-python",
   "name": "python",
   "nbconvert_exporter": "python",
   "pygments_lexer": "ipython3",
   "version": "3.8.3"
  }
 },
 "nbformat": 4,
 "nbformat_minor": 4
}
